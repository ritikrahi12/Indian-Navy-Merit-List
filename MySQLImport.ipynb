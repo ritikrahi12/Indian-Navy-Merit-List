{
 "cells": [
  {
   "cell_type": "code",
   "execution_count": 3,
   "id": "dda32ca5-a050-40e0-87e9-a2cefd31f7d1",
   "metadata": {},
   "outputs": [],
   "source": [
    "import pandas as pd\n",
    "import numpy as np"
   ]
  },
  {
   "cell_type": "code",
   "execution_count": 5,
   "id": "f3f5fc9d-d53d-4392-acc8-e3ff02cb7d57",
   "metadata": {},
   "outputs": [],
   "source": [
    "# Step 1: Read CSV (assuming date is in DD-MM-YYYY or similar)\n",
    "ml = pd.read_csv('merit_list40.csv')\n",
    "\n"
   ]
  },
  {
   "cell_type": "code",
   "execution_count": 7,
   "id": "b935fe75-19eb-483b-bb3b-41b9657b9ec9",
   "metadata": {},
   "outputs": [],
   "source": [
    "# Step 2: Convert DOB to datetime object (auto detects day first)\n",
    "ml['DOB'] = pd.to_datetime(ml['DOB'], dayfirst=True, errors='coerce')\n",
    "\n",
    "\n"
   ]
  },
  {
   "cell_type": "code",
   "execution_count": 9,
   "id": "aa64eeaf-8396-499f-a0c1-f875eaa3cc64",
   "metadata": {},
   "outputs": [],
   "source": [
    "# Step 3: Drop rows where DOB failed to convert (optional safety step)\n",
    "ml = ml.dropna(subset=['DOB'])\n",
    "\n"
   ]
  },
  {
   "cell_type": "code",
   "execution_count": 11,
   "id": "0253a270-3308-4001-9cc0-3779bffeb52e",
   "metadata": {},
   "outputs": [],
   "source": [
    "# Step 4: Convert DOB to correct string format for MySQL\n",
    "ml['DOB'] = ml['DOB'].dt.strftime('%Y-%m-%d')"
   ]
  },
  {
   "cell_type": "code",
   "execution_count": 13,
   "id": "c5969520-e4e8-4f4b-a29c-534e367b9c5c",
   "metadata": {},
   "outputs": [],
   "source": [
    "db_user = \"root\"\n",
    "db_password = \"123456\"\n",
    "db_host = \"localhost\"\n",
    "db_name = \"CANDIDATES\"\n"
   ]
  },
  {
   "cell_type": "code",
   "execution_count": 17,
   "id": "71efe922-2f98-4722-91f3-da4c3a534e30",
   "metadata": {},
   "outputs": [
    {
     "name": "stdout",
     "output_type": "stream",
     "text": [
      "Requirement already satisfied: pandas in c:\\users\\nehar\\anaconda3\\lib\\site-packages (2.2.2)\n",
      "Requirement already satisfied: sqlalchemy in c:\\users\\nehar\\anaconda3\\lib\\site-packages (2.0.34)\n",
      "Requirement already satisfied: pymysql in c:\\users\\nehar\\anaconda3\\lib\\site-packages (1.1.1)\n",
      "Requirement already satisfied: numpy>=1.26.0 in c:\\users\\nehar\\anaconda3\\lib\\site-packages (from pandas) (1.26.4)\n",
      "Requirement already satisfied: python-dateutil>=2.8.2 in c:\\users\\nehar\\anaconda3\\lib\\site-packages (from pandas) (2.9.0.post0)\n",
      "Requirement already satisfied: pytz>=2020.1 in c:\\users\\nehar\\anaconda3\\lib\\site-packages (from pandas) (2024.1)\n",
      "Requirement already satisfied: tzdata>=2022.7 in c:\\users\\nehar\\anaconda3\\lib\\site-packages (from pandas) (2023.3)\n",
      "Requirement already satisfied: typing-extensions>=4.6.0 in c:\\users\\nehar\\anaconda3\\lib\\site-packages (from sqlalchemy) (4.11.0)\n",
      "Requirement already satisfied: greenlet!=0.4.17 in c:\\users\\nehar\\anaconda3\\lib\\site-packages (from sqlalchemy) (3.0.1)\n",
      "Requirement already satisfied: six>=1.5 in c:\\users\\nehar\\anaconda3\\lib\\site-packages (from python-dateutil>=2.8.2->pandas) (1.16.0)\n",
      "Note: you may need to restart the kernel to use updated packages.\n"
     ]
    }
   ],
   "source": [
    "pip install pandas sqlalchemy pymysql"
   ]
  },
  {
   "cell_type": "code",
   "execution_count": 19,
   "id": "575e1a77-ed2a-4be6-9391-626b0530fbe3",
   "metadata": {},
   "outputs": [],
   "source": [
    "from sqlalchemy import create_engine"
   ]
  },
  {
   "cell_type": "code",
   "execution_count": 21,
   "id": "e45b50c6-bc66-4fc4-853f-13d0cdbc32e8",
   "metadata": {},
   "outputs": [],
   "source": [
    "engine = create_engine(f\"mysql+pymysql://{db_user}:{db_password}@{db_host}/{db_name}\")\n"
   ]
  },
  {
   "cell_type": "code",
   "execution_count": 23,
   "id": "91aa6f56-8245-4bcf-8d8e-b6349f5f89be",
   "metadata": {},
   "outputs": [
    {
     "name": "stdout",
     "output_type": "stream",
     "text": [
      "Upload successful!\n"
     ]
    }
   ],
   "source": [
    "ml.to_sql('students', con=engine, if_exists='append', index=False)\n",
    "print(\"Upload successful!\")\n"
   ]
  },
  {
   "cell_type": "code",
   "execution_count": null,
   "id": "2a261f29-f584-44d7-96c4-e9f8f5e21891",
   "metadata": {},
   "outputs": [],
   "source": []
  }
 ],
 "metadata": {
  "kernelspec": {
   "display_name": "Python [conda env:base] *",
   "language": "python",
   "name": "conda-base-py"
  },
  "language_info": {
   "codemirror_mode": {
    "name": "ipython",
    "version": 3
   },
   "file_extension": ".py",
   "mimetype": "text/x-python",
   "name": "python",
   "nbconvert_exporter": "python",
   "pygments_lexer": "ipython3",
   "version": "3.12.7"
  }
 },
 "nbformat": 4,
 "nbformat_minor": 5
}
