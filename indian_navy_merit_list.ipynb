{
 "cells": [
  {
   "cell_type": "markdown",
   "id": "de1f44de-46af-4f9d-adef-01c930db66d1",
   "metadata": {},
   "source": [
    "# 1: IMPORT"
   ]
  },
  {
   "cell_type": "code",
   "execution_count": 1,
   "id": "1b96cce0-cc47-4315-85d6-95498d6a873b",
   "metadata": {},
   "outputs": [],
   "source": [
    "import pandas as pd\n",
    "import numpy as np"
   ]
  },
  {
   "cell_type": "code",
   "execution_count": 3,
   "id": "9b70765f-437d-4a40-9397-12e7e6409acd",
   "metadata": {},
   "outputs": [],
   "source": [
    "ml = pd.read_csv(\"cleaned_candidates.csv\")"
   ]
  },
  {
   "cell_type": "code",
   "execution_count": 5,
   "id": "82822fe1-8a2b-4735-85a0-8731e732f940",
   "metadata": {},
   "outputs": [
    {
     "data": {
      "text/html": [
       "<div>\n",
       "<style scoped>\n",
       "    .dataframe tbody tr th:only-of-type {\n",
       "        vertical-align: middle;\n",
       "    }\n",
       "\n",
       "    .dataframe tbody tr th {\n",
       "        vertical-align: top;\n",
       "    }\n",
       "\n",
       "    .dataframe thead th {\n",
       "        text-align: right;\n",
       "    }\n",
       "</style>\n",
       "<table border=\"1\" class=\"dataframe\">\n",
       "  <thead>\n",
       "    <tr style=\"text-align: right;\">\n",
       "      <th></th>\n",
       "      <th>Candidate Name</th>\n",
       "      <th>DOB</th>\n",
       "      <th>Registration Number</th>\n",
       "      <th>State</th>\n",
       "      <th>Maths</th>\n",
       "      <th>Physics</th>\n",
       "      <th>English</th>\n",
       "      <th>GK</th>\n",
       "      <th>Total Marks</th>\n",
       "      <th>PFT</th>\n",
       "    </tr>\n",
       "  </thead>\n",
       "  <tbody>\n",
       "    <tr>\n",
       "      <th>0</th>\n",
       "      <td>Ishaan Verma</td>\n",
       "      <td>2005-10-09</td>\n",
       "      <td>100086</td>\n",
       "      <td>Telangana</td>\n",
       "      <td>11</td>\n",
       "      <td>20</td>\n",
       "      <td>17</td>\n",
       "      <td>21</td>\n",
       "      <td>69</td>\n",
       "      <td>Pass</td>\n",
       "    </tr>\n",
       "    <tr>\n",
       "      <th>1</th>\n",
       "      <td>Farhan Singh</td>\n",
       "      <td>2005-06-29</td>\n",
       "      <td>100168</td>\n",
       "      <td>Uttar Pradesh</td>\n",
       "      <td>15</td>\n",
       "      <td>21</td>\n",
       "      <td>19</td>\n",
       "      <td>17</td>\n",
       "      <td>72</td>\n",
       "      <td>Pass</td>\n",
       "    </tr>\n",
       "    <tr>\n",
       "      <th>2</th>\n",
       "      <td>Aarav D'Souza</td>\n",
       "      <td>2005-10-17</td>\n",
       "      <td>100194</td>\n",
       "      <td>Tamil Nadu</td>\n",
       "      <td>8</td>\n",
       "      <td>8</td>\n",
       "      <td>9</td>\n",
       "      <td>24</td>\n",
       "      <td>49</td>\n",
       "      <td>Pass</td>\n",
       "    </tr>\n",
       "    <tr>\n",
       "      <th>3</th>\n",
       "      <td>Ishaan Chopra</td>\n",
       "      <td>2005-09-25</td>\n",
       "      <td>100323</td>\n",
       "      <td>Rajasthan</td>\n",
       "      <td>14</td>\n",
       "      <td>22</td>\n",
       "      <td>4</td>\n",
       "      <td>9</td>\n",
       "      <td>49</td>\n",
       "      <td>Pass</td>\n",
       "    </tr>\n",
       "    <tr>\n",
       "      <th>4</th>\n",
       "      <td>Sukhwinder Pillai</td>\n",
       "      <td>2005-02-11</td>\n",
       "      <td>100409</td>\n",
       "      <td>Madhya Pradesh</td>\n",
       "      <td>18</td>\n",
       "      <td>9</td>\n",
       "      <td>14</td>\n",
       "      <td>4</td>\n",
       "      <td>45</td>\n",
       "      <td>Pass</td>\n",
       "    </tr>\n",
       "    <tr>\n",
       "      <th>...</th>\n",
       "      <td>...</td>\n",
       "      <td>...</td>\n",
       "      <td>...</td>\n",
       "      <td>...</td>\n",
       "      <td>...</td>\n",
       "      <td>...</td>\n",
       "      <td>...</td>\n",
       "      <td>...</td>\n",
       "      <td>...</td>\n",
       "      <td>...</td>\n",
       "    </tr>\n",
       "    <tr>\n",
       "      <th>13310</th>\n",
       "      <td>Aditya Khan</td>\n",
       "      <td>2005-02-12</td>\n",
       "      <td>999665</td>\n",
       "      <td>Andhra Pradesh</td>\n",
       "      <td>19</td>\n",
       "      <td>13</td>\n",
       "      <td>18</td>\n",
       "      <td>15</td>\n",
       "      <td>65</td>\n",
       "      <td>Pass</td>\n",
       "    </tr>\n",
       "    <tr>\n",
       "      <th>13311</th>\n",
       "      <td>Raj Khan</td>\n",
       "      <td>2006-04-23</td>\n",
       "      <td>999853</td>\n",
       "      <td>Andhra Pradesh</td>\n",
       "      <td>16</td>\n",
       "      <td>14</td>\n",
       "      <td>17</td>\n",
       "      <td>10</td>\n",
       "      <td>57</td>\n",
       "      <td>Pass</td>\n",
       "    </tr>\n",
       "    <tr>\n",
       "      <th>13312</th>\n",
       "      <td>Yash Fernandes</td>\n",
       "      <td>2005-09-03</td>\n",
       "      <td>999898</td>\n",
       "      <td>Bihar</td>\n",
       "      <td>15</td>\n",
       "      <td>14</td>\n",
       "      <td>5</td>\n",
       "      <td>4</td>\n",
       "      <td>38</td>\n",
       "      <td>Pass</td>\n",
       "    </tr>\n",
       "    <tr>\n",
       "      <th>13313</th>\n",
       "      <td>Imran Reddy</td>\n",
       "      <td>2005-01-03</td>\n",
       "      <td>999907</td>\n",
       "      <td>Punjab</td>\n",
       "      <td>23</td>\n",
       "      <td>12</td>\n",
       "      <td>22</td>\n",
       "      <td>12</td>\n",
       "      <td>69</td>\n",
       "      <td>Pass</td>\n",
       "    </tr>\n",
       "    <tr>\n",
       "      <th>13314</th>\n",
       "      <td>Aditya Pillai</td>\n",
       "      <td>2005-11-22</td>\n",
       "      <td>999951</td>\n",
       "      <td>Karnataka</td>\n",
       "      <td>4</td>\n",
       "      <td>5</td>\n",
       "      <td>4</td>\n",
       "      <td>11</td>\n",
       "      <td>24</td>\n",
       "      <td>Pass</td>\n",
       "    </tr>\n",
       "  </tbody>\n",
       "</table>\n",
       "<p>13315 rows × 10 columns</p>\n",
       "</div>"
      ],
      "text/plain": [
       "          Candidate Name         DOB  Registration Number           State  \\\n",
       "0           Ishaan Verma  2005-10-09               100086       Telangana   \n",
       "1           Farhan Singh  2005-06-29               100168   Uttar Pradesh   \n",
       "2          Aarav D'Souza  2005-10-17               100194      Tamil Nadu   \n",
       "3          Ishaan Chopra  2005-09-25               100323       Rajasthan   \n",
       "4      Sukhwinder Pillai  2005-02-11               100409  Madhya Pradesh   \n",
       "...                  ...         ...                  ...             ...   \n",
       "13310        Aditya Khan  2005-02-12               999665  Andhra Pradesh   \n",
       "13311           Raj Khan  2006-04-23               999853  Andhra Pradesh   \n",
       "13312     Yash Fernandes  2005-09-03               999898           Bihar   \n",
       "13313        Imran Reddy  2005-01-03               999907          Punjab   \n",
       "13314      Aditya Pillai  2005-11-22               999951       Karnataka   \n",
       "\n",
       "       Maths  Physics  English  GK  Total Marks   PFT  \n",
       "0         11       20       17  21           69  Pass  \n",
       "1         15       21       19  17           72  Pass  \n",
       "2          8        8        9  24           49  Pass  \n",
       "3         14       22        4   9           49  Pass  \n",
       "4         18        9       14   4           45  Pass  \n",
       "...      ...      ...      ...  ..          ...   ...  \n",
       "13310     19       13       18  15           65  Pass  \n",
       "13311     16       14       17  10           57  Pass  \n",
       "13312     15       14        5   4           38  Pass  \n",
       "13313     23       12       22  12           69  Pass  \n",
       "13314      4        5        4  11           24  Pass  \n",
       "\n",
       "[13315 rows x 10 columns]"
      ]
     },
     "execution_count": 5,
     "metadata": {},
     "output_type": "execute_result"
    }
   ],
   "source": [
    "ml"
   ]
  },
  {
   "cell_type": "markdown",
   "id": "0bc024cf-f08a-4839-b0e3-344dc84fe9d0",
   "metadata": {},
   "source": [
    "# 2: STATE COUNT\n"
   ]
  },
  {
   "cell_type": "code",
   "execution_count": 11,
   "id": "04cba72a-ba60-4ff7-a6bd-3ba779a4877d",
   "metadata": {},
   "outputs": [
    {
     "name": "stdout",
     "output_type": "stream",
     "text": [
      "State\n",
      "Bihar                       1756\n",
      "Uttar Pradesh               1599\n",
      "Rajasthan                   1509\n",
      "Tamil Nadu                   876\n",
      "Andhra Pradesh               738\n",
      "Madhya Pradesh               720\n",
      "Punjab                       697\n",
      "Haryana                      622\n",
      "Karnataka                    517\n",
      "Maharashtra                  476\n",
      "Jharkhand                    439\n",
      "West Bengal                  413\n",
      "Odisha                       369\n",
      "Assam                        342\n",
      "Telangana                    337\n",
      "Chhattisgarh                 268\n",
      "Kerala                       263\n",
      "Gujarat                      261\n",
      "Himachal Pradesh             260\n",
      "Jammu & Kashmir + Ladakh     254\n",
      "Delhi                        137\n",
      "Uttarakhand                   96\n",
      "Meghalaya                     81\n",
      "Manipur                       49\n",
      "Tripura                       47\n",
      "Nagaland                      37\n",
      "Arunachal Pradesh             32\n",
      "Puducherry                    30\n",
      "Mizoram                       25\n",
      "Andaman & Nicobar             21\n",
      "Daman & Diu / D&N Haveli      17\n",
      "Sikkim                        14\n",
      "Goa                           13\n",
      "Name: count, dtype: int64\n"
     ]
    }
   ],
   "source": [
    "state_counts = ml['State'].value_counts()\n",
    "print(state_counts)"
   ]
  },
  {
   "cell_type": "markdown",
   "id": "177514bb-be2d-4f5d-ac7d-68c96fade61a",
   "metadata": {},
   "source": [
    "# 3: STATE WISE CUTOFF"
   ]
  },
  {
   "cell_type": "markdown",
   "id": "4f0a3db0-43db-496d-a2a9-56dd5745a29d",
   "metadata": {},
   "source": [
    "# 1: NAGALAND"
   ]
  },
  {
   "cell_type": "code",
   "execution_count": 22,
   "id": "c5625f28-a2fa-42cb-9eca-d4c01a6c49b0",
   "metadata": {},
   "outputs": [
    {
     "name": "stdout",
     "output_type": "stream",
     "text": [
      "Nagaland selected candidates: 9\n",
      "Nagaland marks (approx): 41.0\n"
     ]
    }
   ],
   "source": [
    "# Cutoff for Nagaland\n",
    "Nagaland_data = ml[ml['State'] == 'Nagaland']\n",
    "cutoff = np.percentile(Nagaland_data['Total Marks'], 80)\n",
    "Nagaland_selected = Nagaland_data[Nagaland_data['Total Marks'] >= cutoff]\n",
    "print(\"Nagaland selected candidates:\", len(Nagaland_selected))\n",
    "print(\"Nagaland marks (approx):\", cutoff)"
   ]
  },
  {
   "cell_type": "markdown",
   "id": "4a23de36-5d70-48a7-8e78-7a6b74d901be",
   "metadata": {},
   "source": [
    "# 2: SIKKIM"
   ]
  },
  {
   "cell_type": "code",
   "execution_count": 28,
   "id": "a0da60cb-22b5-4674-a572-59a94416916f",
   "metadata": {},
   "outputs": [
    {
     "name": "stdout",
     "output_type": "stream",
     "text": [
      "Sikkim selected candidates: 8\n",
      "Cutoff marks (approx): 39.0\n"
     ]
    }
   ],
   "source": [
    "# Cutoff for Sikkim\n",
    "sikkim_data = ml[ml['State'] == 'Sikkim']\n",
    "cutoff = np.percentile(sikkim_data['Total Marks'], 40)\n",
    "sikkim_selected = sikkim_data[sikkim_data['Total Marks'] >= cutoff]\n",
    "print(\"Sikkim selected candidates:\", len(sikkim_selected))\n",
    "print(\"Cutoff marks (approx):\", cutoff)"
   ]
  },
  {
   "cell_type": "markdown",
   "id": "3381df62-8615-4151-913b-c428e3d733c4",
   "metadata": {},
   "source": [
    "# 3: DAMAN & DIU / D&N HAVELI"
   ]
  },
  {
   "cell_type": "code",
   "execution_count": 30,
   "id": "10ebe3c7-e747-42a7-8d56-4c7839f383b6",
   "metadata": {},
   "outputs": [
    {
     "name": "stdout",
     "output_type": "stream",
     "text": [
      "Daman selected candidates: 8\n",
      "Daman marks (approx): 30.0\n"
     ]
    }
   ],
   "source": [
    "# Cutoff for Daman & Diu / D&N Haveli\n",
    "Daman_data = ml[ml['State'] == 'Daman & Diu / D&N Haveli']\n",
    "cutoff = np.percentile(Daman_data['Total Marks'], 20)\n",
    "Daman_selected = Daman_data[Daman_data['Total Marks'] >= cutoff]\n",
    "print(\"Daman selected candidates:\", len(sikkim_selected))\n",
    "print(\"Daman marks (approx):\", cutoff)"
   ]
  },
  {
   "cell_type": "markdown",
   "id": "d41d3f50-9dab-491a-9148-03e83c3b24f5",
   "metadata": {},
   "source": [
    "# 4: ANDAMAN & NICOBAR"
   ]
  },
  {
   "cell_type": "code",
   "execution_count": 32,
   "id": "42c89f91-34ad-4e50-be35-e16363e3a10b",
   "metadata": {},
   "outputs": [
    {
     "name": "stdout",
     "output_type": "stream",
     "text": [
      "Andaman selected candidates: 15\n",
      "Andaman marks (approx): 41.0\n"
     ]
    }
   ],
   "source": [
    "# Cutoff for Andaman & Nicobar\n",
    "Andaman_data = ml[ml['State'] == 'Andaman & Nicobar']\n",
    "cutoff = np.percentile(Andaman_data['Total Marks'], 30)\n",
    "Andaman_selected = Andaman_data[Andaman_data['Total Marks'] >= cutoff]\n",
    "print(\"Andaman selected candidates:\", len(Andaman_selected))\n",
    "print(\"Andaman marks (approx):\", cutoff)"
   ]
  },
  {
   "cell_type": "markdown",
   "id": "0ee75754-d337-4f4e-bb3e-766785d9db8c",
   "metadata": {},
   "source": [
    "# 5: BIHAR"
   ]
  },
  {
   "cell_type": "code",
   "execution_count": 34,
   "id": "61c6274c-9ece-437a-9072-ef63692d3bb0",
   "metadata": {},
   "outputs": [
    {
     "name": "stdout",
     "output_type": "stream",
     "text": [
      "Bihar selected candidates: 360\n",
      "Bihar marks (approx): 67.0\n"
     ]
    }
   ],
   "source": [
    "# Cutoff for Bihar\n",
    "Bihar_data = ml[ml['State'] == 'Bihar']\n",
    "cutoff = np.percentile(Bihar_data['Total Marks'], 80)\n",
    "Bihar_selected = Bihar_data[Bihar_data['Total Marks'] >= cutoff]\n",
    "print(\"Bihar selected candidates:\", len(Bihar_selected))\n",
    "print(\"Bihar marks (approx):\", cutoff)"
   ]
  },
  {
   "cell_type": "markdown",
   "id": "d6cd671e-7a16-4c07-a27b-778360640227",
   "metadata": {},
   "source": [
    "# 6: UTTAR PRADESH"
   ]
  },
  {
   "cell_type": "code",
   "execution_count": 36,
   "id": "dbd7fd6c-9fc3-415c-9d79-fe405e7908ec",
   "metadata": {},
   "outputs": [
    {
     "name": "stdout",
     "output_type": "stream",
     "text": [
      "UP selected candidates: 341\n",
      "UP marks (approx): 60.0\n"
     ]
    }
   ],
   "source": [
    "# Cutoff for Uttar Pradesh\n",
    "UP_data = ml[ml['State'] == 'Uttar Pradesh']\n",
    "cutoff = np.percentile(UP_data['Total Marks'], 80)\n",
    "UP_selected = UP_data[UP_data['Total Marks'] >= cutoff]\n",
    "print(\"UP selected candidates:\", len(UP_selected))\n",
    "print(\"UP marks (approx):\", cutoff)"
   ]
  },
  {
   "cell_type": "markdown",
   "id": "ab652b99-176d-46c7-b778-58933664fa0c",
   "metadata": {},
   "source": [
    "# 7: RAJASTHAN"
   ]
  },
  {
   "cell_type": "code",
   "execution_count": 38,
   "id": "120020f4-c3ab-4b30-8ce4-2aa8d9e90c61",
   "metadata": {},
   "outputs": [
    {
     "name": "stdout",
     "output_type": "stream",
     "text": [
      "Rajasthan selected candidates: 317\n",
      "Rajasthan marks (approx): 66.0\n"
     ]
    }
   ],
   "source": [
    "# Cutoff for Rajasthan\n",
    "Rajasthan_data = ml[ml['State'] == 'Rajasthan']\n",
    "cutoff = np.percentile(Rajasthan_data['Total Marks'], 80)\n",
    "Rajasthan_selected = Rajasthan_data[Rajasthan_data['Total Marks'] >= cutoff]\n",
    "print(\"Rajasthan selected candidates:\", len(Rajasthan_selected))\n",
    "print(\"Rajasthan marks (approx):\", cutoff)"
   ]
  },
  {
   "cell_type": "markdown",
   "id": "b9406f01-5ca9-4b76-9090-2b2d60c11523",
   "metadata": {},
   "source": [
    "# 8: TAMIL NADU"
   ]
  },
  {
   "cell_type": "code",
   "execution_count": 40,
   "id": "0d723ec6-5a41-4a93-8e35-dd44068647a2",
   "metadata": {},
   "outputs": [
    {
     "name": "stdout",
     "output_type": "stream",
     "text": [
      "TN selected candidates: 187\n",
      "TN marks (approx): 67.0\n"
     ]
    }
   ],
   "source": [
    "# Cutoff for Tamil Nadu\n",
    "TN_data = ml[ml['State'] == 'Tamil Nadu']\n",
    "cutoff = np.percentile(TN_data['Total Marks'], 80)\n",
    "TN_selected = TN_data[TN_data['Total Marks'] >= cutoff]\n",
    "print(\"TN selected candidates:\", len(TN_selected))\n",
    "print(\"TN marks (approx):\", cutoff)"
   ]
  },
  {
   "cell_type": "markdown",
   "id": "a3e7f1da-caf9-48ae-aeda-d63868252af8",
   "metadata": {},
   "source": [
    "# 9: ANDHRA PRADESH"
   ]
  },
  {
   "cell_type": "code",
   "execution_count": 42,
   "id": "cf292aff-e7f1-4268-87cb-38057cf02139",
   "metadata": {},
   "outputs": [
    {
     "name": "stdout",
     "output_type": "stream",
     "text": [
      "AP selected candidates: 155\n",
      "AP marks (approx): 63.0\n"
     ]
    }
   ],
   "source": [
    "# Cutoff for Andhra Pradesh\n",
    "AP_data = ml[ml['State'] == 'Andhra Pradesh']\n",
    "cutoff = np.percentile(AP_data['Total Marks'], 80)\n",
    "AP_selected = AP_data[AP_data['Total Marks'] >= cutoff]\n",
    "print(\"AP selected candidates:\", len(AP_selected))\n",
    "print(\"AP marks (approx):\", cutoff)"
   ]
  },
  {
   "cell_type": "markdown",
   "id": "a58faeee-a4c5-4e23-8821-ec338469fe04",
   "metadata": {},
   "source": [
    "# 10: MADHYA PRADESH"
   ]
  },
  {
   "cell_type": "code",
   "execution_count": 44,
   "id": "09591230-acaa-4290-8930-08aa6bf8d370",
   "metadata": {},
   "outputs": [
    {
     "name": "stdout",
     "output_type": "stream",
     "text": [
      "MP selected candidates: 129\n",
      "MP marks (approx): 56.0\n"
     ]
    }
   ],
   "source": [
    "# Cutoff for Madhya Pradesh\n",
    "MP_data = ml[ml['State'] == 'Madhya Pradesh']\n",
    "cutoff = np.percentile(MP_data['Total Marks'], 84)\n",
    "MP_selected = MP_data[MP_data['Total Marks'] >= cutoff]\n",
    "print(\"MP selected candidates:\", len(MP_selected))\n",
    "print(\"MP marks (approx):\", cutoff)"
   ]
  },
  {
   "cell_type": "markdown",
   "id": "23e4c1b3-27a7-422e-8531-410189c546e0",
   "metadata": {},
   "source": [
    "# 11: PUNJAB"
   ]
  },
  {
   "cell_type": "code",
   "execution_count": 46,
   "id": "7b9c85ea-1774-43a8-8546-eeb15f9b2a18",
   "metadata": {},
   "outputs": [
    {
     "name": "stdout",
     "output_type": "stream",
     "text": [
      "Punjab selected candidates: 147\n",
      "Punjab marks (approx): 65.0\n"
     ]
    }
   ],
   "source": [
    "# Cutoff for Punjab\n",
    "Punjab_data = ml[ml['State'] == 'Punjab']\n",
    "cutoff = np.percentile(Punjab_data['Total Marks'], 80)\n",
    "Punjab_selected = Punjab_data[Punjab_data['Total Marks'] >= cutoff]\n",
    "print(\"Punjab selected candidates:\", len(Punjab_selected))\n",
    "print(\"Punjab marks (approx):\", cutoff)"
   ]
  },
  {
   "cell_type": "markdown",
   "id": "ace6db5c-52ee-4e78-acab-e46360486e5b",
   "metadata": {},
   "source": [
    "# 12: HARYANA"
   ]
  },
  {
   "cell_type": "code",
   "execution_count": 48,
   "id": "2f2a2296-a283-4c6d-8f06-3d88a093c58a",
   "metadata": {},
   "outputs": [
    {
     "name": "stdout",
     "output_type": "stream",
     "text": [
      "Haryana selected candidates: 127\n",
      "Haryana marks (approx): 66.0\n"
     ]
    }
   ],
   "source": [
    "# Cutoff for Haryana\n",
    "Haryana_data = ml[ml['State'] == 'Haryana']\n",
    "cutoff = np.percentile(Haryana_data['Total Marks'], 80)\n",
    "Haryana_selected = Haryana_data[Haryana_data['Total Marks'] >= cutoff]\n",
    "print(\"Haryana selected candidates:\", len(Haryana_selected))\n",
    "print(\"Haryana marks (approx):\", cutoff)"
   ]
  },
  {
   "cell_type": "markdown",
   "id": "cb23ffd9-deeb-47cb-8422-8cdebeed14a0",
   "metadata": {},
   "source": [
    "# 13: MAHARASHTRA"
   ]
  },
  {
   "cell_type": "code",
   "execution_count": 50,
   "id": "99741b0b-f180-4c52-8dc5-4ed9b24886e6",
   "metadata": {},
   "outputs": [
    {
     "name": "stdout",
     "output_type": "stream",
     "text": [
      "Maharashtra selected candidates: 101\n",
      "Maharashtra marks (approx): 53.0\n"
     ]
    }
   ],
   "source": [
    "# Cutoff for Maharashtra\n",
    "Maharashtra_data = ml[ml['State'] == 'Maharashtra']\n",
    "cutoff = np.percentile(Maharashtra_data['Total Marks'], 80)\n",
    "Maharashtra_selected = Maharashtra_data[Maharashtra_data['Total Marks'] >= cutoff]\n",
    "print(\"Maharashtra selected candidates:\", len(Maharashtra_selected))\n",
    "print(\"Maharashtra marks (approx):\", cutoff)"
   ]
  },
  {
   "cell_type": "markdown",
   "id": "446b31f6-93ec-4144-98b5-fb53faa00220",
   "metadata": {},
   "source": [
    "# 14: KARNATAKA"
   ]
  },
  {
   "cell_type": "code",
   "execution_count": 52,
   "id": "08d7f338-2909-406f-b12f-d14ec77678c0",
   "metadata": {},
   "outputs": [
    {
     "name": "stdout",
     "output_type": "stream",
     "text": [
      "Karnataka selected candidates: 107\n",
      "Karnataka marks (approx): 61.0\n"
     ]
    }
   ],
   "source": [
    "# Cutoff for Karnataka\n",
    "Karnataka_data = ml[ml['State'] == 'Karnataka']\n",
    "cutoff = np.percentile(Karnataka_data['Total Marks'], 80)\n",
    "Karnataka_selected = Karnataka_data[Karnataka_data['Total Marks'] >= cutoff]\n",
    "print(\"Karnataka selected candidates:\", len(Karnataka_selected))\n",
    "print(\"Karnataka marks (approx):\", cutoff)"
   ]
  },
  {
   "cell_type": "markdown",
   "id": "af0b6bc2-b1db-4512-8580-5989bb4aab45",
   "metadata": {},
   "source": [
    "# 15: JHARKHAND"
   ]
  },
  {
   "cell_type": "code",
   "execution_count": 54,
   "id": "23aad646-3f45-4bcf-a13b-43b04dd1b209",
   "metadata": {},
   "outputs": [
    {
     "name": "stdout",
     "output_type": "stream",
     "text": [
      "Jharkhand selected candidates: 88\n",
      "Jharkhand marks (approx): 62.0\n"
     ]
    }
   ],
   "source": [
    "# Cutoff for Jharkhand\n",
    "Jharkhand_data = ml[ml['State'] == 'Jharkhand']\n",
    "cutoff = np.percentile(Jharkhand_data['Total Marks'], 82)\n",
    "Jharkhand_selected = Jharkhand_data[Jharkhand_data['Total Marks'] >= cutoff]\n",
    "print(\"Jharkhand selected candidates:\", len(Jharkhand_selected))\n",
    "print(\"Jharkhand marks (approx):\", cutoff)"
   ]
  },
  {
   "cell_type": "markdown",
   "id": "ce610b3b-7287-419f-86d7-fffc98984553",
   "metadata": {},
   "source": [
    "# 16: WEST BENGAL"
   ]
  },
  {
   "cell_type": "code",
   "execution_count": 56,
   "id": "a2e5fc33-2e24-45ac-9d66-97313b758c29",
   "metadata": {},
   "outputs": [
    {
     "name": "stdout",
     "output_type": "stream",
     "text": [
      "WB selected candidates: 82\n",
      "WB marks (approx): 52.0\n"
     ]
    }
   ],
   "source": [
    "# Cutoff for West Bengal\n",
    "WB_data = ml[ml['State'] == 'West Bengal']\n",
    "cutoff = np.percentile(WB_data['Total Marks'], 82)\n",
    "WB_selected = WB_data[WB_data['Total Marks'] >= cutoff]\n",
    "print(\"WB selected candidates:\", len(WB_selected))\n",
    "print(\"WB marks (approx):\", cutoff)"
   ]
  },
  {
   "cell_type": "markdown",
   "id": "0360f329-711e-430f-a796-3a7eabe165fd",
   "metadata": {},
   "source": [
    "# 17: ODISHA"
   ]
  },
  {
   "cell_type": "code",
   "execution_count": 58,
   "id": "a2e334f4-9e0d-480c-996c-94c38951a654",
   "metadata": {},
   "outputs": [
    {
     "name": "stdout",
     "output_type": "stream",
     "text": [
      "Odisha selected candidates: 77\n",
      "Odisha marks (approx): 66.0\n"
     ]
    }
   ],
   "source": [
    "# Cutoff for Odisha\n",
    "Odisha_data = ml[ml['State'] == 'Odisha']\n",
    "cutoff = np.percentile(Odisha_data['Total Marks'], 80)\n",
    "Odisha_selected = Odisha_data[Odisha_data['Total Marks'] >= cutoff]\n",
    "print(\"Odisha selected candidates:\", len(Odisha_selected))\n",
    "print(\"Odisha marks (approx):\", cutoff)"
   ]
  },
  {
   "cell_type": "markdown",
   "id": "15c8fdcc-854b-4cac-9c99-06c701781f25",
   "metadata": {},
   "source": [
    "# 18: ASSAM"
   ]
  },
  {
   "cell_type": "code",
   "execution_count": 60,
   "id": "7d45d174-abc8-4925-9dc3-da24675b1814",
   "metadata": {},
   "outputs": [
    {
     "name": "stdout",
     "output_type": "stream",
     "text": [
      "Assam selected candidates: 73\n",
      "Assam marks (approx): 61.0\n"
     ]
    }
   ],
   "source": [
    "# Cutoff for Assam\n",
    "Assam_data = ml[ml['State'] == 'Assam']\n",
    "cutoff = np.percentile(Assam_data['Total Marks'], 80)\n",
    "Assam_selected = Assam_data[Assam_data['Total Marks'] >= cutoff]\n",
    "print(\"Assam selected candidates:\", len(Assam_selected))\n",
    "print(\"Assam marks (approx):\", cutoff)"
   ]
  },
  {
   "cell_type": "markdown",
   "id": "91f4c939-9498-4949-8715-a3803066cda3",
   "metadata": {},
   "source": [
    "# 19: TELANGANA"
   ]
  },
  {
   "cell_type": "code",
   "execution_count": 62,
   "id": "2a44c835-1542-4624-ba27-155960d6f1dc",
   "metadata": {},
   "outputs": [
    {
     "name": "stdout",
     "output_type": "stream",
     "text": [
      "Telangana selected candidates: 75\n",
      "Telangana marks (approx): 61.0\n"
     ]
    }
   ],
   "source": [
    "# Cutoff for Telangana\n",
    "Telangana_data = ml[ml['State'] == 'Telangana']\n",
    "cutoff = np.percentile(Telangana_data['Total Marks'], 80)\n",
    "Telangana_selected = Telangana_data[Telangana_data['Total Marks'] >= cutoff]\n",
    "print(\"Telangana selected candidates:\", len(Telangana_selected))\n",
    "print(\"Telangana marks (approx):\", cutoff)"
   ]
  },
  {
   "cell_type": "markdown",
   "id": "6ec9b6d6-8df7-47cb-8323-efea5a3bf209",
   "metadata": {},
   "source": [
    "# 20: CHHATTISGARH"
   ]
  },
  {
   "cell_type": "code",
   "execution_count": 64,
   "id": "061676e3-8332-4a8a-ac2e-11e937a1bea2",
   "metadata": {},
   "outputs": [
    {
     "name": "stdout",
     "output_type": "stream",
     "text": [
      "Chhattisgarh selected candidates: 59\n",
      "Chhattisgarh marks (approx): 66.0\n"
     ]
    }
   ],
   "source": [
    "# Cutoff for Chhattisgarh\n",
    "Chhattisgarh_data = ml[ml['State'] == 'Chhattisgarh']\n",
    "cutoff = np.percentile(Chhattisgarh_data['Total Marks'], 80)\n",
    "Chhattisgarh_selected = Chhattisgarh_data[Chhattisgarh_data['Total Marks'] >= cutoff]\n",
    "print(\"Chhattisgarh selected candidates:\", len(Chhattisgarh_selected))\n",
    "print(\"Chhattisgarh marks (approx):\", cutoff)"
   ]
  },
  {
   "cell_type": "markdown",
   "id": "caa4a614-5991-4530-a573-dbf9775633e5",
   "metadata": {},
   "source": [
    "# 21: KERALA"
   ]
  },
  {
   "cell_type": "code",
   "execution_count": 66,
   "id": "5d076c54-1592-441e-9215-2364565e09de",
   "metadata": {},
   "outputs": [
    {
     "name": "stdout",
     "output_type": "stream",
     "text": [
      "Kerala selected candidates: 59\n",
      "Kerala marks (approx): 61.0\n"
     ]
    }
   ],
   "source": [
    "# Cutoff for Kerala\n",
    "Kerala_data = ml[ml['State'] == 'Kerala']\n",
    "cutoff = np.percentile(Kerala_data['Total Marks'], 80)\n",
    "Kerala_selected = Kerala_data[Kerala_data['Total Marks'] >= cutoff]\n",
    "print(\"Kerala selected candidates:\", len(Kerala_selected))\n",
    "print(\"Kerala marks (approx):\", cutoff)"
   ]
  },
  {
   "cell_type": "markdown",
   "id": "73447412-f47d-44d1-ad84-35061f4ad32c",
   "metadata": {},
   "source": [
    "# 22: GUJARAT"
   ]
  },
  {
   "cell_type": "code",
   "execution_count": 68,
   "id": "cdf3d9fb-8fa7-4939-83f0-8b7c41c46ece",
   "metadata": {},
   "outputs": [
    {
     "name": "stdout",
     "output_type": "stream",
     "text": [
      "Gujarat selected candidates: 54\n",
      "Gujarat marks (approx): 66.0\n"
     ]
    }
   ],
   "source": [
    "# Cutoff for Gujarat\n",
    "Gujarat_data = ml[ml['State'] == 'Gujarat']\n",
    "cutoff = np.percentile(Gujarat_data['Total Marks'], 80)\n",
    "Gujarat_selected = Gujarat_data[Gujarat_data['Total Marks'] >= cutoff]\n",
    "print(\"Gujarat selected candidates:\", len(Gujarat_selected))\n",
    "print(\"Gujarat marks (approx):\", cutoff)"
   ]
  },
  {
   "cell_type": "markdown",
   "id": "8d0d9e35-79a6-4464-98fc-67f0ae1bfdb2",
   "metadata": {},
   "source": [
    "# 23: HIMACHAL PRADESH"
   ]
  },
  {
   "cell_type": "code",
   "execution_count": 70,
   "id": "d4626bff-30da-4e3c-8026-a6b8a2fd32f3",
   "metadata": {},
   "outputs": [
    {
     "name": "stdout",
     "output_type": "stream",
     "text": [
      "HP selected candidates: 56\n",
      "HP marks (approx): 59.0\n"
     ]
    }
   ],
   "source": [
    "# Cutoff for Himachal Pradesh\n",
    "HP_data = ml[ml['State'] == 'Himachal Pradesh']\n",
    "cutoff = np.percentile(HP_data['Total Marks'], 79)\n",
    "HP_selected = HP_data[HP_data['Total Marks'] >= cutoff]\n",
    "print(\"HP selected candidates:\", len(HP_selected))\n",
    "print(\"HP marks (approx):\", cutoff)"
   ]
  },
  {
   "cell_type": "markdown",
   "id": "df2e38a4-23f1-4655-acc0-18f2c7898023",
   "metadata": {},
   "source": [
    "# 24: JAMMU & KASHMIR + LADAKH"
   ]
  },
  {
   "cell_type": "code",
   "execution_count": 72,
   "id": "6f4989dd-8cb7-464a-bbe7-90c329a656b5",
   "metadata": {},
   "outputs": [
    {
     "name": "stdout",
     "output_type": "stream",
     "text": [
      "JK selected candidates: 58\n",
      "JK marks (approx): 61.0\n"
     ]
    }
   ],
   "source": [
    "# Cutoff for Jammu & Kashmir + Ladakh\n",
    "JK_data = ml[ml['State'] == 'Jammu & Kashmir + Ladakh']\n",
    "cutoff = np.percentile(JK_data['Total Marks'], 79)\n",
    "JK_selected = JK_data[JK_data['Total Marks'] >= cutoff]\n",
    "print(\"JK selected candidates:\", len(JK_selected))\n",
    "print(\"JK marks (approx):\", cutoff)"
   ]
  },
  {
   "cell_type": "markdown",
   "id": "9d9f8bfb-319c-43d8-8532-63f76fbf3b71",
   "metadata": {},
   "source": [
    "# 25: DELHI"
   ]
  },
  {
   "cell_type": "code",
   "execution_count": 74,
   "id": "bceb180d-4000-46d2-a70f-abefb990bfe2",
   "metadata": {},
   "outputs": [
    {
     "name": "stdout",
     "output_type": "stream",
     "text": [
      "Delhi selected candidates: 29\n",
      "Delhi marks (approx): 67.0\n"
     ]
    }
   ],
   "source": [
    "# Cutoff for Delhi\n",
    "Delhi_data = ml[ml['State'] == 'Delhi']\n",
    "cutoff = np.percentile(Delhi_data['Total Marks'], 80)\n",
    "Delhi_selected = Delhi_data[Delhi_data['Total Marks'] >= cutoff]\n",
    "print(\"Delhi selected candidates:\", len(Delhi_selected))\n",
    "print(\"Delhi marks (approx):\", cutoff)"
   ]
  },
  {
   "cell_type": "markdown",
   "id": "b793895b-7cc0-4279-a8da-d80a18d26eb4",
   "metadata": {},
   "source": [
    "# 26: UTTARAKHAND"
   ]
  },
  {
   "cell_type": "code",
   "execution_count": 76,
   "id": "08deb1ff-32c8-4004-802d-97a3f8647184",
   "metadata": {},
   "outputs": [
    {
     "name": "stdout",
     "output_type": "stream",
     "text": [
      "Uttarakhand selected candidates: 22\n",
      "Uttarakhand marks (approx): 47.0\n"
     ]
    }
   ],
   "source": [
    "# Cutoff for Uttarakhand\n",
    "Uttarakhand_data = ml[ml['State'] == 'Uttarakhand']\n",
    "cutoff = np.percentile(Uttarakhand_data['Total Marks'], 80)\n",
    "Uttarakhand_selected = Uttarakhand_data[Uttarakhand_data['Total Marks'] >= cutoff]\n",
    "print(\"Uttarakhand selected candidates:\", len(Uttarakhand_selected))\n",
    "print(\"Uttarakhand marks (approx):\", cutoff)"
   ]
  },
  {
   "cell_type": "markdown",
   "id": "14a6ba2b-49cc-427e-bad7-004611f7a551",
   "metadata": {},
   "source": [
    "# 27: MEGHALAYA"
   ]
  },
  {
   "cell_type": "code",
   "execution_count": 78,
   "id": "95954adf-6958-457b-9ea9-6acb3080fc54",
   "metadata": {},
   "outputs": [
    {
     "name": "stdout",
     "output_type": "stream",
     "text": [
      "Meghalaya selected candidates: 17\n",
      "Meghalaya marks (approx): 55.0\n"
     ]
    }
   ],
   "source": [
    "# Cutoff for Meghalaya\n",
    "Meghalaya_data = ml[ml['State'] == 'Meghalaya']\n",
    "cutoff = np.percentile(Meghalaya_data['Total Marks'], 80)\n",
    "Meghalaya_selected = Meghalaya_data[Meghalaya_data['Total Marks'] >= cutoff]\n",
    "print(\"Meghalaya selected candidates:\", len(Meghalaya_selected))\n",
    "print(\"Meghalaya marks (approx):\", cutoff)"
   ]
  },
  {
   "cell_type": "markdown",
   "id": "03d0ffe8-6d3f-4515-a56b-3683df79d093",
   "metadata": {},
   "source": [
    "# 28: MANIPUR"
   ]
  },
  {
   "cell_type": "code",
   "execution_count": 80,
   "id": "94e5eccb-05a4-4cc4-b2d0-4b0096652b1f",
   "metadata": {},
   "outputs": [
    {
     "name": "stdout",
     "output_type": "stream",
     "text": [
      "Manipur selected candidates: 12\n",
      "Manipur marks (approx): 56.0\n"
     ]
    }
   ],
   "source": [
    "# Cutoff for Manipur\n",
    "Manipur_data = ml[ml['State'] == 'Manipur']\n",
    "cutoff = np.percentile(Manipur_data['Total Marks'], 79)\n",
    "Manipur_selected = Manipur_data[Manipur_data['Total Marks'] >= cutoff]\n",
    "print(\"Manipur selected candidates:\", len(Manipur_selected))\n",
    "print(\"Manipur marks (approx):\", cutoff)"
   ]
  },
  {
   "cell_type": "markdown",
   "id": "ce636e6e-1ace-4278-985d-8482ee563176",
   "metadata": {},
   "source": [
    "# 29: TRIPURA"
   ]
  },
  {
   "cell_type": "code",
   "execution_count": 82,
   "id": "a1af8ffa-7f90-43a3-89fa-b2a20295d5c5",
   "metadata": {},
   "outputs": [
    {
     "name": "stdout",
     "output_type": "stream",
     "text": [
      "Tripura selected candidates: 6\n",
      "Tripura marks (approx): 65.0\n"
     ]
    }
   ],
   "source": [
    "# Cutoff for Tripura\n",
    "Tripura_data = ml[ml['State'] == 'Tripura']\n",
    "cutoff = np.percentile(Tripura_data['Total Marks'], 90)\n",
    "Tripura_selected = Tripura_data[Tripura_data['Total Marks'] >= cutoff]\n",
    "print(\"Tripura selected candidates:\", len(Tripura_selected))\n",
    "print(\"Tripura marks (approx):\", cutoff)"
   ]
  },
  {
   "cell_type": "markdown",
   "id": "b83ab29e-904d-4a90-990b-3444f170310c",
   "metadata": {},
   "source": [
    "# 30: ARUNACHAL PRADESH"
   ]
  },
  {
   "cell_type": "code",
   "execution_count": 84,
   "id": "263c3b6c-6ee7-4134-98e2-179f379e6eea",
   "metadata": {},
   "outputs": [
    {
     "name": "stdout",
     "output_type": "stream",
     "text": [
      "Arunachal selected candidates: 7\n",
      "Arunachal marks (approx): 51.0\n"
     ]
    }
   ],
   "source": [
    "# Cutoff for Arunachal Pradesh\n",
    "Arunachal_data = ml[ml['State'] == 'Arunachal Pradesh']\n",
    "cutoff = np.percentile(Arunachal_data['Total Marks'], 81)\n",
    "Arunachal_selected = Arunachal_data[Arunachal_data['Total Marks'] >= cutoff]\n",
    "print(\"Arunachal selected candidates:\", len(Arunachal_selected))\n",
    "print(\"Arunachal marks (approx):\", cutoff)"
   ]
  },
  {
   "cell_type": "markdown",
   "id": "e05e71be-86a0-4d3c-a4c1-3050ee3a1ccb",
   "metadata": {},
   "source": [
    "# 31: PUDUCHERRY"
   ]
  },
  {
   "cell_type": "code",
   "execution_count": 86,
   "id": "c8fe9bfe-ea98-4a4e-b445-4fa772aaaeaa",
   "metadata": {},
   "outputs": [
    {
     "name": "stdout",
     "output_type": "stream",
     "text": [
      "Puducherry selected candidates: 7\n",
      "Puducherry marks (approx): 42.0\n"
     ]
    }
   ],
   "source": [
    "# Cutoff for Puducherry \n",
    "Puducherry_data = ml[ml['State'] == 'Puducherry']\n",
    "cutoff = np.percentile(Puducherry_data['Total Marks'], 75)\n",
    "Puducherry_selected = Puducherry_data[Puducherry_data['Total Marks'] >= cutoff]\n",
    "print(\"Puducherry selected candidates:\", len(Arunachal_selected))\n",
    "print(\"Puducherry marks (approx):\", cutoff)"
   ]
  },
  {
   "cell_type": "markdown",
   "id": "4762523a-18e2-449b-bb51-04215deeb321",
   "metadata": {},
   "source": [
    "# 32: MIZORAM"
   ]
  },
  {
   "cell_type": "code",
   "execution_count": 88,
   "id": "9c149f64-c64e-44d1-8f6e-0cc25b530738",
   "metadata": {},
   "outputs": [
    {
     "name": "stdout",
     "output_type": "stream",
     "text": [
      "Mizoram selected candidates: 8\n",
      "Mizoram marks (approx): 39.0\n"
     ]
    }
   ],
   "source": [
    "# Cutoff for Mizoram \n",
    "Mizoram_data = ml[ml['State'] == 'Mizoram']\n",
    "cutoff = np.percentile(Mizoram_data['Total Marks'], 75)\n",
    "Mizoram_selected = Mizoram_data[Mizoram_data['Total Marks'] >= cutoff]\n",
    "print(\"Mizoram selected candidates:\", len(Mizoram_selected))\n",
    "print(\"Mizoram marks (approx):\", cutoff)"
   ]
  },
  {
   "cell_type": "markdown",
   "id": "14e9e1dc-9289-430c-8938-41b04b321270",
   "metadata": {},
   "source": [
    "# 33: GOA"
   ]
  },
  {
   "cell_type": "code",
   "execution_count": 90,
   "id": "3568df02-91dd-4669-bc36-b7c80d4b1017",
   "metadata": {},
   "outputs": [
    {
     "name": "stdout",
     "output_type": "stream",
     "text": [
      "Goa selected candidates: 4\n",
      "Goa marks (approx): 38.0\n"
     ]
    }
   ],
   "source": [
    "# Cutoff for Goa \n",
    "Goa_data = ml[ml['State'] == 'Goa']\n",
    "cutoff = np.percentile(Goa_data['Total Marks'], 90)\n",
    "Goa_selected = Goa_data[Goa_data['Total Marks'] >= cutoff]\n",
    "print(\"Goa selected candidates:\", len(Goa_selected))\n",
    "print(\"Goa marks (approx):\", cutoff)"
   ]
  },
  {
   "cell_type": "markdown",
   "id": "c04f97d5-d9c2-4b4e-8198-60ff98ad8f47",
   "metadata": {},
   "source": [
    "# 4: CHECKING DOB FORMAT"
   ]
  },
  {
   "cell_type": "code",
   "execution_count": 128,
   "id": "24e8dc34-d3fb-42a6-834f-c1a5063fab1b",
   "metadata": {},
   "outputs": [],
   "source": [
    "# If DOB is in 'YYYY-MM-DD' format\n",
    "ml['DOB'] = pd.to_datetime(ml['DOB'], errors='coerce')"
   ]
  },
  {
   "cell_type": "markdown",
   "id": "b50591dc-76c9-4b40-b861-334f1ddb495c",
   "metadata": {},
   "source": [
    "# 5: SORTING MERIT LIST"
   ]
  },
  {
   "cell_type": "code",
   "execution_count": 132,
   "id": "c7b5a8c0-aecb-4888-8247-27ecc64a3462",
   "metadata": {},
   "outputs": [],
   "source": [
    "ml_sorted = ml.sort_values(by=['Total Marks', 'DOB', 'Maths', 'Physics', 'English', 'GK'],\n",
    "ascending=[False, True, False, False, False, False])"
   ]
  },
  {
   "cell_type": "markdown",
   "id": "6efd487c-1868-4302-9f1e-94fad492a846",
   "metadata": {},
   "source": [
    "# 6: STATE WISE SEAT DISTRIBUTION"
   ]
  },
  {
   "cell_type": "code",
   "execution_count": 135,
   "id": "7a3b1930-62a8-4ef2-8545-f9a843739f9a",
   "metadata": {},
   "outputs": [],
   "source": [
    "state_seat_distribution = {'Bihar': 360,'Uttar Pradesh': 341,'Rajasthan': 317,'Tamil Nadu': 187,'Andhra Pradesh': 155,'Punjab': 147,\n",
    "'Madhya Pradesh': 129,'Haryana': 127,'Karnataka': 107,'Maharashtra': 101, 'Jharkhand': 88,'West Bengal': 82,'Odisha': 77, 'Assam': 73,\n",
    "'Telangana': 75,'Chhattisgarh': 59,'Kerala': 59,'Jammu & Kashmir + Ladakh': 58,'Himachal Pradesh': 56,'Gujarat': 54,'Delhi': 29,\n",
    "'Uttarakhand': 22,'Meghalaya': 17,'Andaman & Nicobar': 14,'Manipur': 12,'Nagaland': 9,'Sikkim': 8,'Mizoram': 8,'Arunachal Pradesh': 7,\n",
    "'Puducherry': 7,'Tripura': 6,'Daman & Diu / D&N Haveli': 6,'Goa': 3}"
   ]
  },
  {
   "cell_type": "markdown",
   "id": "c1067c9b-aed6-4c2e-9972-ca2dfa697733",
   "metadata": {},
   "source": [
    "# 7: STATE WISE CUTOFF DICTIONARY    "
   ]
  },
  {
   "cell_type": "code",
   "execution_count": 138,
   "id": "ce2319a9-9716-4260-b0de-bdd56b1cce69",
   "metadata": {},
   "outputs": [],
   "source": [
    "# Step 4: Cutoff dictionary (your provided one)\n",
    "state_cutoffs = {'Bihar': 67,'Uttar Pradesh': 60,'Rajasthan': 66,'Tamil Nadu': 67,'Andhra Pradesh': 63, 'Madhya Pradesh': 56,'Punjab': 65,'Haryana': 66,\n",
    "'Karnataka': 61,'Maharashtra': 53,'Jharkhand': 62,'West Bengal': 52,'Odisha': 66,'Assam': 61,'Telangana': 61,'Chhattisgarh': 66,'Kerala': 61,\n",
    "'Gujarat': 66,'Himachal Pradesh': 59,'Jammu & Kashmir + Ladakh': 61,'Delhi': 67,'Uttarakhand': 47,'Meghalaya': 55,'Manipur': 56,'Tripura': 65,\n",
    "'Nagaland': 41,'Arunachal Pradesh': 51,'Puducherry': 42,'Mizoram': 39, 'Andaman & Nicobar': 41,'Daman & Diu / D&N Haveli': 30,'Sikkim': 39,'Goa': 38}"
   ]
  },
  {
   "cell_type": "markdown",
   "id": "1ffdfce8-893c-4d21-93c4-6229ee0e50bb",
   "metadata": {},
   "source": [
    "# 8: FINAL MERIT LIST "
   ]
  },
  {
   "cell_type": "code",
   "execution_count": 141,
   "id": "ae914d93-a0f9-41b3-8d9b-197ff6c9c72a",
   "metadata": {},
   "outputs": [],
   "source": [
    "final_df = pd.DataFrame()\n",
    "\n",
    "for state, seats in state_seat_distribution.items():\n",
    "    state_df = ml_sorted[ml_sorted['State'] == state]\n",
    "    eligible = state_df[state_df['Total Marks'] >= state_cutoffs.get(state, 999)]\n",
    "    selected = eligible.head(seats)\n",
    "    final_df = pd.concat([final_df, selected], ignore_index=True)"
   ]
  },
  {
   "cell_type": "markdown",
   "id": "6a87c8f6-3d8f-4e26-8890-8f4a5c8e393f",
   "metadata": {},
   "source": [
    "# 9: EXPORT TO CSV"
   ]
  },
  {
   "cell_type": "code",
   "execution_count": 144,
   "id": "8192450e-960e-4693-919e-9098e5d8694f",
   "metadata": {},
   "outputs": [],
   "source": [
    "# Step 6: Export to CSV on E drive\n",
    "final_df.to_csv(r'E:\\indian_navy_merit_list.csv', index=False)"
   ]
  },
  {
   "cell_type": "code",
   "execution_count": null,
   "id": "8bed253d-c821-4b85-b053-58112af99619",
   "metadata": {},
   "outputs": [],
   "source": []
  }
 ],
 "metadata": {
  "kernelspec": {
   "display_name": "Python [conda env:base] *",
   "language": "python",
   "name": "conda-base-py"
  },
  "language_info": {
   "codemirror_mode": {
    "name": "ipython",
    "version": 3
   },
   "file_extension": ".py",
   "mimetype": "text/x-python",
   "name": "python",
   "nbconvert_exporter": "python",
   "pygments_lexer": "ipython3",
   "version": "3.12.7"
  }
 },
 "nbformat": 4,
 "nbformat_minor": 5
}
