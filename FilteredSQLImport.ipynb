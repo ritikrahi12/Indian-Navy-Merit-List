{
 "cells": [
  {
   "cell_type": "code",
   "execution_count": 1,
   "id": "6744f5b5-9ac9-4717-9664-b109eacaceb7",
   "metadata": {},
   "outputs": [],
   "source": [
    "import pandas as pd\n",
    "from sqlalchemy import create_engine"
   ]
  },
  {
   "cell_type": "code",
   "execution_count": 3,
   "id": "160abb59-609b-48fb-aaf5-d2e59f747489",
   "metadata": {},
   "outputs": [],
   "source": [
    "# DB Connection\n",
    "db_user = \"root\"\n",
    "db_password = \"123456\"\n",
    "db_host = \"localhost\"\n",
    "db_name = \"CANDIDATES\""
   ]
  },
  {
   "cell_type": "code",
   "execution_count": 5,
   "id": "c245c370-e4ba-45d9-9aff-4b7c9d54ffde",
   "metadata": {},
   "outputs": [],
   "source": [
    "engine = create_engine(f\"mysql+pymysql://{db_user}:{db_password}@{db_host}/{db_name}\")"
   ]
  },
  {
   "cell_type": "code",
   "execution_count": 7,
   "id": "61b76513-7ea2-4e9d-82fc-a92e396d3bce",
   "metadata": {},
   "outputs": [],
   "source": [
    "# SQL Query to Filter Valid Students\n",
    "query = \"\"\"\n",
    "SELECT * FROM students\n",
    "WHERE PFT = 'Pass'\n",
    "AND Maths > 3\n",
    "AND Physics > 3\n",
    "AND English > 3\n",
    "AND GK > 3;\n",
    "\"\"\""
   ]
  },
  {
   "cell_type": "code",
   "execution_count": 9,
   "id": "08cf0c8a-987d-43f2-9157-600ef0a0b757",
   "metadata": {},
   "outputs": [],
   "source": [
    "filtered_df = pd.read_sql(query, con=engine)"
   ]
  },
  {
   "cell_type": "code",
   "execution_count": 11,
   "id": "66b9c000-af81-441e-8a66-d4d82d7a4e78",
   "metadata": {},
   "outputs": [
    {
     "name": "stdout",
     "output_type": "stream",
     "text": [
      "✅ Cleaned data exported as 'cleaned_candidates.csv'\n"
     ]
    }
   ],
   "source": [
    "# Save to CSV\n",
    "filtered_df.to_csv(\"cleaned_candidates.csv\", index=False)\n",
    "print(\"✅ Cleaned data exported as 'cleaned_candidates.csv'\")"
   ]
  },
  {
   "cell_type": "code",
   "execution_count": null,
   "id": "cfa54e3a-ab2b-4d78-b525-9607103abf04",
   "metadata": {},
   "outputs": [],
   "source": []
  }
 ],
 "metadata": {
  "kernelspec": {
   "display_name": "Python [conda env:base] *",
   "language": "python",
   "name": "conda-base-py"
  },
  "language_info": {
   "codemirror_mode": {
    "name": "ipython",
    "version": 3
   },
   "file_extension": ".py",
   "mimetype": "text/x-python",
   "name": "python",
   "nbconvert_exporter": "python",
   "pygments_lexer": "ipython3",
   "version": "3.12.7"
  }
 },
 "nbformat": 4,
 "nbformat_minor": 5
}
